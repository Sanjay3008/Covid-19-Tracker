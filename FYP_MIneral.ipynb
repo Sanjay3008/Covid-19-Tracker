{
  "nbformat": 4,
  "nbformat_minor": 0,
  "metadata": {
    "colab": {
      "name": "FYP MIneral.ipynb",
      "provenance": [],
      "authorship_tag": "ABX9TyOtCzKZbo4QvezmvxmyW1fb",
      "include_colab_link": true
    },
    "kernelspec": {
      "display_name": "Python 3",
      "name": "python3"
    }
  },
  "cells": [
    {
      "cell_type": "markdown",
      "metadata": {
        "id": "view-in-github",
        "colab_type": "text"
      },
      "source": [
        "<a href=\"https://colab.research.google.com/github/Sanjay3008/Covid-19-Tracker/blob/master/FYP_MIneral.ipynb\" target=\"_parent\"><img src=\"https://colab.research.google.com/assets/colab-badge.svg\" alt=\"Open In Colab\"/></a>"
      ]
    },
    {
      "cell_type": "code",
      "metadata": {
        "id": "WKphZaH5bUP-"
      },
      "source": [
        "import numpy as np\r\n",
        "import matplotlib.pyplot as plt\r\n",
        "import pandas as pd"
      ],
      "execution_count": 204,
      "outputs": []
    },
    {
      "cell_type": "code",
      "metadata": {
        "colab": {
          "base_uri": "https://localhost:8080/"
        },
        "id": "Ez4jOJzzcoVZ",
        "outputId": "58bd61ec-06cc-4cb0-a2c4-05f1b92678e3"
      },
      "source": [
        "dataset  = pd.read_csv('Mineral.csv')\r\n",
        "x = dataset.iloc[:,:-1].values\r\n",
        "y = dataset.iloc[:,-1].values\r\n",
        "print(x)"
      ],
      "execution_count": 205,
      "outputs": [
        {
          "output_type": "stream",
          "text": [
            "[[17.064]\n",
            " [38.   ]\n",
            " [17.209]\n",
            " [17.759]\n",
            " [17.645]\n",
            " [18.135]\n",
            " [25.3  ]\n",
            " [23.68 ]\n",
            " [21.364]\n",
            " [35.096]\n",
            " [31.061]\n",
            " [37.301]\n",
            " [31.064]\n",
            " [24.047]\n",
            " [46.235]\n",
            " [ 1.817]\n",
            " [10.105]\n",
            " [46.112]\n",
            " [42.418]\n",
            " [ 0.175]\n",
            " [63.18 ]\n",
            " [ 3.393]\n",
            " [ 4.914]\n",
            " [16.303]\n",
            " [29.593]\n",
            " [16.768]\n",
            " [19.95 ]\n",
            " [13.632]\n",
            " [16.653]\n",
            " [12.577]\n",
            " [14.95 ]\n",
            " [14.285]\n",
            " [11.2  ]\n",
            " [ 5.05 ]\n",
            " [62.499]\n",
            " [50.688]\n",
            " [47.19 ]\n",
            " [16.228]\n",
            " [47.005]\n",
            " [41.818]\n",
            " [ 5.55 ]\n",
            " [24.438]\n",
            " [10.979]\n",
            " [10.075]\n",
            " [ 9.244]\n",
            " [ 9.639]\n",
            " [10.08 ]\n",
            " [10.556]\n",
            " [10.449]\n",
            " [34.624]\n",
            " [10.26 ]\n",
            " [64.221]\n",
            " [53.157]\n",
            " [49.544]\n",
            " [43.45 ]\n",
            " [ 2.99 ]\n",
            " [ 2.979]\n",
            " [ 1.782]\n",
            " [24.236]\n",
            " [ 3.269]\n",
            " [ 2.457]\n",
            " [15.141]\n",
            " [ 2.97 ]\n",
            " [ 3.155]\n",
            " [84.942]\n",
            " [35.514]\n",
            " [ 1.565]\n",
            " [15.264]\n",
            " [ 2.76 ]\n",
            " [ 1.426]\n",
            " [ 1.93 ]\n",
            " [22.415]\n",
            " [37.8  ]\n",
            " [40.425]\n",
            " [41.46 ]\n",
            " [46.978]\n",
            " [45.403]\n",
            " [41.341]\n",
            " [45.961]\n",
            " [45.961]\n",
            " [45.942]\n",
            " [46.119]\n",
            " [45.845]\n",
            " [45.396]\n",
            " [68.265]\n",
            " [19.197]\n",
            " [28.128]\n",
            " [45.962]\n",
            " [46.715]\n",
            " [23.904]\n",
            " [27.558]\n",
            " [42.591]\n",
            " [99.974]\n",
            " [64.051]\n",
            " [ 2.76 ]\n",
            " [56.825]\n",
            " [ 5.346]\n",
            " [34.8  ]\n",
            " [42.622]\n",
            " [29.732]\n",
            " [30.179]]\n"
          ],
          "name": "stdout"
        }
      ]
    },
    {
      "cell_type": "code",
      "metadata": {
        "colab": {
          "base_uri": "https://localhost:8080/"
        },
        "id": "HGmua3f7gMJe",
        "outputId": "f96b0fdc-14a1-4d34-c026-18176a736c2c"
      },
      "source": [
        "from sklearn.preprocessing import LabelEncoder\r\n",
        "\r\n",
        "label_encoder  = LabelEncoder()\r\n",
        "y= label_encoder.fit_transform(y)\r\n",
        "print(y)"
      ],
      "execution_count": 206,
      "outputs": [
        {
          "output_type": "stream",
          "text": [
            "[  5   6   1   2   3   4   7   8   9  10  11  12  13  14  15  16  17  18\n",
            "  19  20  21  22  23  24  25  31  26  28  27  32  29  30  34  35  33  36\n",
            "  37  38  39  40  41  42  43  46  47  48  49  50  51  44  45  52  53  54\n",
            "  55  56  57  58  62  59  65  66  60  61  63  64  67  68  69  70  71  72\n",
            "  73  75  74  78  79  80  76  77  81  82  83  84  85  86  87  91  92  88\n",
            "  89  90  93  94  97  95  98  96  99   0 100]\n"
          ],
          "name": "stdout"
        }
      ]
    },
    {
      "cell_type": "code",
      "metadata": {
        "id": "rDA-Kd7AhBxo"
      },
      "source": [
        "from sklearn.model_selection import train_test_split\r\n",
        "x_train,x_test,y_train,y_test = train_test_split(x,y,test_size=0.4,random_state=0)\r\n"
      ],
      "execution_count": 211,
      "outputs": []
    },
    {
      "cell_type": "code",
      "metadata": {
        "id": "-qVUHbQnIn9k"
      },
      "source": [
        "from sklearn.tree import DecisionTreeClassifier\r\n",
        "classifier = DecisionTreeClassifier(max_leaf_nodes=1000,random_state=0,)\r\n",
        "classifier.fit(x_train,y_train)"
      ],
      "execution_count": null,
      "outputs": []
    },
    {
      "cell_type": "code",
      "metadata": {
        "colab": {
          "base_uri": "https://localhost:8080/"
        },
        "id": "P-9HVzrDJUjQ",
        "outputId": "f0e4b608-79e2-4760-c2b4-23c337e311c1"
      },
      "source": [
        "y_p = classifier.predict([[19.95]])\r\n",
        "print(label_encoder.inverse_transform(y_p))\r\n"
      ],
      "execution_count": 213,
      "outputs": [
        {
          "output_type": "stream",
          "text": [
            "['Thallium']\n"
          ],
          "name": "stdout"
        }
      ]
    }
  ]
}